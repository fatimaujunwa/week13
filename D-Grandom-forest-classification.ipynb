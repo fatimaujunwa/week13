{
  "nbformat": 4,
  "nbformat_minor": 0,
  "metadata": {
    "colab": {
      "provenance": [],
      "machine_shape": "hm"
    },
    "kernelspec": {
      "name": "python3",
      "display_name": "Python 3"
    }
  },
  "cells": [
    {
      "cell_type": "markdown",
      "metadata": {
        "id": "0MRC0e0KhQ0S"
      },
      "source": [
        "# Random Forest Classification"
      ]
    },
    {
      "cell_type": "markdown",
      "metadata": {
        "id": "LWd1UlMnhT2s"
      },
      "source": [
        "## Importing the libraries"
      ]
    },
    {
      "cell_type": "code",
      "metadata": {
        "id": "YvGPUQaHhXfL"
      },
      "source": [
        "import numpy as np\n",
        "import matplotlib.pyplot as plt\n",
        "import pandas as pd\n",
        "from sklearn.preprocessing import LabelEncoder\n"
      ],
      "execution_count": null,
      "outputs": []
    },
    {
      "cell_type": "markdown",
      "metadata": {
        "id": "K1VMqkGvhc3-"
      },
      "source": [
        "## Importing the dataset"
      ]
    },
    {
      "cell_type": "code",
      "metadata": {
        "id": "M52QDmyzhh9s"
      },
      "source": [
        "df = pd.read_csv('health.csv')\n",
        "dataset = pd.DataFrame()\n",
        "\n",
        "for column in df.columns:\n",
        "    if df[column].dtype == 'object':\n",
        "        encoder = LabelEncoder()\n",
        "        encoded_values = encoder.fit_transform(df[column])\n",
        "        dataset[column] = encoded_values\n",
        "    else:\n",
        "        dataset[column] = df[column]\n",
        "\n",
        "X = dataset.iloc[:, :-1].values\n",
        "y = dataset.iloc[:, -1].values"
      ],
      "execution_count": null,
      "outputs": []
    },
    {
      "cell_type": "markdown",
      "metadata": {
        "id": "YvxIPVyMhmKp"
      },
      "source": [
        "## Splitting the dataset into the Training set and Test set"
      ]
    },
    {
      "cell_type": "code",
      "metadata": {
        "id": "AVzJWAXIhxoC"
      },
      "source": [
        "from sklearn.model_selection import train_test_split\n",
        "X_train, X_test, y_train, y_test = train_test_split(X, y, test_size = 0.25, random_state = 0)"
      ],
      "execution_count": null,
      "outputs": []
    },
    {
      "cell_type": "code",
      "metadata": {
        "id": "P3nS3-6r1i2B",
        "outputId": "cfe2df22-c26f-46d3-cd33-76840ecec09f",
        "colab": {
          "base_uri": "https://localhost:8080/"
        }
      },
      "source": [
        "print(X_train)"
      ],
      "execution_count": null,
      "outputs": [
        {
          "output_type": "stream",
          "name": "stdout",
          "text": [
            "[[2133    0    0 ...    0    0    0]\n",
            " [ 443    0    0 ...    0    0    0]\n",
            " [3312    0    0 ...    0    1    0]\n",
            " ...\n",
            " [ 728    1    0 ...    0    0    0]\n",
            " [1788    0    0 ...    0    0    0]\n",
            " [1927    0    1 ...    0    0    0]]\n"
          ]
        }
      ]
    },
    {
      "cell_type": "code",
      "metadata": {
        "id": "8dpDLojm1mVG",
        "outputId": "90ffe623-d622-4702-f98d-6a8520720d94",
        "colab": {
          "base_uri": "https://localhost:8080/"
        }
      },
      "source": [
        "print(y_train)"
      ],
      "execution_count": null,
      "outputs": [
        {
          "output_type": "stream",
          "name": "stdout",
          "text": [
            "[2 2 3 ... 0 1 0]\n"
          ]
        }
      ]
    },
    {
      "cell_type": "code",
      "metadata": {
        "id": "qbb7i0DH1qui",
        "outputId": "354882d4-ee1b-44e4-de2a-bd40596fef38",
        "colab": {
          "base_uri": "https://localhost:8080/"
        }
      },
      "source": [
        "print(X_test)"
      ],
      "execution_count": null,
      "outputs": [
        {
          "output_type": "stream",
          "name": "stdout",
          "text": [
            "[[3345    1    0 ...    0    0    0]\n",
            " [ 923    0    0 ...    0    0    0]\n",
            " [2667    0    0 ...    0    0    0]\n",
            " ...\n",
            " [1353    1    0 ...    0    0    0]\n",
            " [3211    0    0 ...    0    0    0]\n",
            " [2863    1    0 ...    0    0    0]]\n"
          ]
        }
      ]
    },
    {
      "cell_type": "code",
      "metadata": {
        "id": "kj1hnFAR1s5w",
        "outputId": "150f1896-bf47-47b6-fcfa-e4061dd2a835",
        "colab": {
          "base_uri": "https://localhost:8080/"
        }
      },
      "source": [
        "print(y_test)"
      ],
      "execution_count": null,
      "outputs": [
        {
          "output_type": "stream",
          "name": "stdout",
          "text": [
            "[1 0 0 1 0 0 1 1 1 1 0 0 1 0 0 1 1 3 2 2 1 3 1 0 1 1 1 2 1 7 0 0 0 1 2 1 1\n",
            " 1 0 0 1 1 2 0 2 2 0 2 1 1 3 0 2 1 0 4 0 4 1 1 0 3 0 2 1 2 1 4 1 2 0 0 1 1\n",
            " 3 0 2 2 0 3 2 4 0 1 2 1 3 2 0 0 2 1 0 1 3 1 0 1 0 1 2 2 1 2 1 0 0 1 0 3 1\n",
            " 3 1 1 3 0 1 1 0 3 2 1 2 2 1 1 2 3 0 0 1 0 1 1 1 1 1 0 1 2 1 2 1 0 3 2 0 1\n",
            " 0 5 2 0 3 0 1 1 1 0 0 6 2 2 1 1 0 0 0 0 2 1 1 1 0 0 0 3 0 3 1 1 0 1 1 1 1\n",
            " 0 1 1 0 2 0 1 2 2 1 0 0 1 1 4 1 2 3 1 2 2 0 1 0 1 0 1 1 2 0 1 1 0 0 2 0 2\n",
            " 2 2 1 0 2 1 2 0 0 0 0 1 0 0 1 2 1 2 2 1 1 1 0 1 3 2 2 2 2 1 1 1 2 1 4 1 0\n",
            " 0 3 0 3 1 2 1 2 0 2 0 0 2 2 2 1 4 0 0 0 0 2 2 5 1 2 2 1 3 2 2 2 2 0 0 0 4\n",
            " 1 1 3 3 3 2 0 1 1 2 3 1 2 2 1 4 0 1 2 1 0 1 3 0 0 1 2 1 0 3 2 1 2 0 1 0 3\n",
            " 1 2 1 3 0 1 2 0 0 1 2 1 0 1 1 2 1 7 2 2 0 0 1 1 2 0 0 0 2 0 1 1 3 0 0 0 1\n",
            " 1 1 0 2 2 0 2 2 1 2 0 0 0 0 2 2 3 1 5 2 0 3 1 1 2 1 1 0 2 1 3 0 1 0 0 1 2\n",
            " 2 1 1 1 0 2 0 1 2 0 2 1 1 2 0 1 0 3 3 2 1 2 0 4 0 3 1 3 3 1 1 3 0 0 0 2 1\n",
            " 1 0 1 1 0 0 0 2 0 0 2 1 3 4 3 4 0 2 0 0 1 1 1 1 3 3 1 0 0 1 0 0 1 2 1 2 0\n",
            " 1 2 0 1 1 1 1 1 3 0 0 2 2 2 1 3 1 1 1 0 1 0 1 4 2 4 0 2 0 2 1 3 1 1 3 0 3\n",
            " 1 0 1 1 0 0 2 2 1 2 1 3 0 1 0 1 3 1 1 3 0 1 1 1 1 0 1 1 1 2 1 0 1 2 0 2 1\n",
            " 2 0 1 2 2 1 2 1 1 1 2 4 1 3 2 1 1 1 1 1 1 0 2 2 1 0 3 0 1 2 1 1 4 1 1 1 0\n",
            " 3 0 0 1 2 1 0 3 1 1 1 0 3 1 3 2 0 2 0 2 0 0 2 2 3 1 2 1 1 3 1 1 0 0 0 1 0\n",
            " 1 0 0 1 0 2 2 1 4 1 0 2 1 3 2 1 1 2 1 3 0 0 2 1 0 0 1 2 0 1 0 0 1 0 0 2 2\n",
            " 4 0 3 2 0 0 0 1 3 4 0 1 1 2 1 1 4 1 1 2 1 0 1 2 2 4 2 0 0 0 1 1 1 1 0 2 3\n",
            " 0 3 1 0 2 0 0 4 1 2 2 2 1 1 1 0 2 3 1 2 0 0 1 0 1 0 1 0 0 4 0 2 0 3 1 1 0\n",
            " 2 1 0 1 1 0 2 0 1 2 1 2 2 1 4 2 0 1 1 3 1 1 1 1 1 2 0 1 2 2 1 2 2 0 1 1 1\n",
            " 0 1 2 1 1 1 0 0 1 3 0 1 1 1 0 1 1 0 1 1 1 0 3 0 0 1 1 2 0 1 2 0 1 0 0 1 3\n",
            " 2 1 1 2 1 0 2 1 2 0 1 3 1 1 2 1 0 2 0 0 1 2 1 2 1 1 1 1 0 1 3 2 1 1 2 0 0\n",
            " 2 1 1 1 1]\n"
          ]
        }
      ]
    },
    {
      "cell_type": "markdown",
      "metadata": {
        "id": "kW3c7UYih0hT"
      },
      "source": [
        "## Feature Scaling"
      ]
    },
    {
      "cell_type": "code",
      "metadata": {
        "id": "9fQlDPKCh8sc"
      },
      "source": [
        "from sklearn.preprocessing import StandardScaler\n",
        "sc = StandardScaler()\n",
        "X_train = sc.fit_transform(X_train)\n",
        "X_test = sc.transform(X_test)"
      ],
      "execution_count": null,
      "outputs": []
    },
    {
      "cell_type": "code",
      "metadata": {
        "id": "syrnD1Op2BSR",
        "outputId": "25553de3-7188-4d39-9af5-635e878371f2",
        "colab": {
          "base_uri": "https://localhost:8080/"
        }
      },
      "source": [
        "print(X_train)"
      ],
      "execution_count": null,
      "outputs": [
        {
          "output_type": "stream",
          "name": "stdout",
          "text": [
            "[[ 0.44357461 -0.78298488 -0.24906774 ... -0.06252443 -0.06252443\n",
            "  -0.15729152]\n",
            " [-1.26638711 -0.78298488 -0.24906774 ... -0.06252443 -0.06252443\n",
            "  -0.15729152]\n",
            " [ 1.63650057 -0.78298488 -0.24906774 ... -0.06252443 15.99374878\n",
            "  -0.15729152]\n",
            " ...\n",
            " [-0.97802079  1.27716387 -0.24906774 ... -0.06252443 -0.06252443\n",
            "  -0.15729152]\n",
            " [ 0.09449959 -0.78298488 -0.24906774 ... -0.06252443 -0.06252443\n",
            "  -0.15729152]\n",
            " [ 0.23514141 -0.78298488  4.01497198 ... -0.06252443 -0.06252443\n",
            "  -0.15729152]]\n"
          ]
        }
      ]
    },
    {
      "cell_type": "code",
      "metadata": {
        "id": "JUd6iBRp2C3L",
        "outputId": "6cd7ee24-cdf5-4029-9827-1a48bb2a957c",
        "colab": {
          "base_uri": "https://localhost:8080/"
        }
      },
      "source": [
        "print(X_test)"
      ],
      "execution_count": null,
      "outputs": [
        {
          "output_type": "stream",
          "name": "stdout",
          "text": [
            "[[ 1.66989036  1.27716387 -0.24906774 ... -0.06252443 -0.06252443\n",
            "  -0.15729152]\n",
            " [-0.78071751 -0.78298488 -0.24906774 ... -0.06252443 -0.06252443\n",
            "  -0.15729152]\n",
            " [ 0.98388205 -0.78298488 -0.24906774 ... -0.06252443 -0.06252443\n",
            "  -0.15729152]\n",
            " ...\n",
            " [-0.34563849  1.27716387 -0.24906774 ... -0.06252443 -0.06252443\n",
            "  -0.15729152]\n",
            " [ 1.5343076  -0.78298488 -0.24906774 ... -0.06252443 -0.06252443\n",
            "  -0.15729152]\n",
            " [ 1.18219713  1.27716387 -0.24906774 ... -0.06252443 -0.06252443\n",
            "  -0.15729152]]\n"
          ]
        }
      ]
    },
    {
      "cell_type": "markdown",
      "metadata": {
        "id": "bb6jCOCQiAmP"
      },
      "source": [
        "## Training the Random Forest Classification model on the Training set"
      ]
    },
    {
      "cell_type": "code",
      "metadata": {
        "id": "e0pFVAmciHQs",
        "outputId": "2f36d0ca-9d3a-4d99-8485-53ba495d5190",
        "colab": {
          "base_uri": "https://localhost:8080/",
          "height": 74
        }
      },
      "source": [
        "from sklearn.ensemble import RandomForestClassifier\n",
        "classifier = RandomForestClassifier(n_estimators = 10, criterion = 'entropy', random_state = 0)\n",
        "classifier.fit(X_train, y_train)"
      ],
      "execution_count": null,
      "outputs": [
        {
          "output_type": "execute_result",
          "data": {
            "text/plain": [
              "RandomForestClassifier(criterion='entropy', n_estimators=10, random_state=0)"
            ],
            "text/html": [
              "<style>#sk-container-id-1 {color: black;background-color: white;}#sk-container-id-1 pre{padding: 0;}#sk-container-id-1 div.sk-toggleable {background-color: white;}#sk-container-id-1 label.sk-toggleable__label {cursor: pointer;display: block;width: 100%;margin-bottom: 0;padding: 0.3em;box-sizing: border-box;text-align: center;}#sk-container-id-1 label.sk-toggleable__label-arrow:before {content: \"▸\";float: left;margin-right: 0.25em;color: #696969;}#sk-container-id-1 label.sk-toggleable__label-arrow:hover:before {color: black;}#sk-container-id-1 div.sk-estimator:hover label.sk-toggleable__label-arrow:before {color: black;}#sk-container-id-1 div.sk-toggleable__content {max-height: 0;max-width: 0;overflow: hidden;text-align: left;background-color: #f0f8ff;}#sk-container-id-1 div.sk-toggleable__content pre {margin: 0.2em;color: black;border-radius: 0.25em;background-color: #f0f8ff;}#sk-container-id-1 input.sk-toggleable__control:checked~div.sk-toggleable__content {max-height: 200px;max-width: 100%;overflow: auto;}#sk-container-id-1 input.sk-toggleable__control:checked~label.sk-toggleable__label-arrow:before {content: \"▾\";}#sk-container-id-1 div.sk-estimator input.sk-toggleable__control:checked~label.sk-toggleable__label {background-color: #d4ebff;}#sk-container-id-1 div.sk-label input.sk-toggleable__control:checked~label.sk-toggleable__label {background-color: #d4ebff;}#sk-container-id-1 input.sk-hidden--visually {border: 0;clip: rect(1px 1px 1px 1px);clip: rect(1px, 1px, 1px, 1px);height: 1px;margin: -1px;overflow: hidden;padding: 0;position: absolute;width: 1px;}#sk-container-id-1 div.sk-estimator {font-family: monospace;background-color: #f0f8ff;border: 1px dotted black;border-radius: 0.25em;box-sizing: border-box;margin-bottom: 0.5em;}#sk-container-id-1 div.sk-estimator:hover {background-color: #d4ebff;}#sk-container-id-1 div.sk-parallel-item::after {content: \"\";width: 100%;border-bottom: 1px solid gray;flex-grow: 1;}#sk-container-id-1 div.sk-label:hover label.sk-toggleable__label {background-color: #d4ebff;}#sk-container-id-1 div.sk-serial::before {content: \"\";position: absolute;border-left: 1px solid gray;box-sizing: border-box;top: 0;bottom: 0;left: 50%;z-index: 0;}#sk-container-id-1 div.sk-serial {display: flex;flex-direction: column;align-items: center;background-color: white;padding-right: 0.2em;padding-left: 0.2em;position: relative;}#sk-container-id-1 div.sk-item {position: relative;z-index: 1;}#sk-container-id-1 div.sk-parallel {display: flex;align-items: stretch;justify-content: center;background-color: white;position: relative;}#sk-container-id-1 div.sk-item::before, #sk-container-id-1 div.sk-parallel-item::before {content: \"\";position: absolute;border-left: 1px solid gray;box-sizing: border-box;top: 0;bottom: 0;left: 50%;z-index: -1;}#sk-container-id-1 div.sk-parallel-item {display: flex;flex-direction: column;z-index: 1;position: relative;background-color: white;}#sk-container-id-1 div.sk-parallel-item:first-child::after {align-self: flex-end;width: 50%;}#sk-container-id-1 div.sk-parallel-item:last-child::after {align-self: flex-start;width: 50%;}#sk-container-id-1 div.sk-parallel-item:only-child::after {width: 0;}#sk-container-id-1 div.sk-dashed-wrapped {border: 1px dashed gray;margin: 0 0.4em 0.5em 0.4em;box-sizing: border-box;padding-bottom: 0.4em;background-color: white;}#sk-container-id-1 div.sk-label label {font-family: monospace;font-weight: bold;display: inline-block;line-height: 1.2em;}#sk-container-id-1 div.sk-label-container {text-align: center;}#sk-container-id-1 div.sk-container {/* jupyter's `normalize.less` sets `[hidden] { display: none; }` but bootstrap.min.css set `[hidden] { display: none !important; }` so we also need the `!important` here to be able to override the default hidden behavior on the sphinx rendered scikit-learn.org. See: https://github.com/scikit-learn/scikit-learn/issues/21755 */display: inline-block !important;position: relative;}#sk-container-id-1 div.sk-text-repr-fallback {display: none;}</style><div id=\"sk-container-id-1\" class=\"sk-top-container\"><div class=\"sk-text-repr-fallback\"><pre>RandomForestClassifier(criterion=&#x27;entropy&#x27;, n_estimators=10, random_state=0)</pre><b>In a Jupyter environment, please rerun this cell to show the HTML representation or trust the notebook. <br />On GitHub, the HTML representation is unable to render, please try loading this page with nbviewer.org.</b></div><div class=\"sk-container\" hidden><div class=\"sk-item\"><div class=\"sk-estimator sk-toggleable\"><input class=\"sk-toggleable__control sk-hidden--visually\" id=\"sk-estimator-id-1\" type=\"checkbox\" checked><label for=\"sk-estimator-id-1\" class=\"sk-toggleable__label sk-toggleable__label-arrow\">RandomForestClassifier</label><div class=\"sk-toggleable__content\"><pre>RandomForestClassifier(criterion=&#x27;entropy&#x27;, n_estimators=10, random_state=0)</pre></div></div></div></div></div>"
            ]
          },
          "metadata": {},
          "execution_count": 31
        }
      ]
    },
    {
      "cell_type": "markdown",
      "metadata": {
        "id": "vKYVQH-l5NpE"
      },
      "source": [
        "## Predicting the Test set results"
      ]
    },
    {
      "cell_type": "code",
      "metadata": {
        "id": "p6VMTb2O4hwM",
        "outputId": "ead8e840-442c-4c51-c0b1-b360c9b35105",
        "colab": {
          "base_uri": "https://localhost:8080/"
        }
      },
      "source": [
        "y_pred = classifier.predict(X_test)\n",
        "print(np.concatenate((y_pred.reshape(len(y_pred),1), y_test.reshape(len(y_test),1)),1))"
      ],
      "execution_count": null,
      "outputs": [
        {
          "output_type": "stream",
          "name": "stdout",
          "text": [
            "[[1 1]\n",
            " [0 0]\n",
            " [0 0]\n",
            " ...\n",
            " [1 1]\n",
            " [1 1]\n",
            " [1 1]]\n"
          ]
        }
      ]
    },
    {
      "cell_type": "markdown",
      "metadata": {
        "id": "h4Hwj34ziWQW"
      },
      "source": [
        "## Making the Confusion Matrix"
      ]
    },
    {
      "cell_type": "code",
      "metadata": {
        "id": "D6bpZwUiiXic",
        "outputId": "8613b71e-422c-4d21-aa9b-bf7fae8c00e8",
        "colab": {
          "base_uri": "https://localhost:8080/"
        }
      },
      "source": [
        "from sklearn.metrics import confusion_matrix, accuracy_score\n",
        "cm = confusion_matrix(y_test, y_pred)\n",
        "print(cm)\n",
        "accuracy_score(y_test, y_pred)"
      ],
      "execution_count": null,
      "outputs": [
        {
          "output_type": "stream",
          "name": "stdout",
          "text": [
            "[[242   1   0   0   0   0   0   0]\n",
            " [ 14 297  14   0   0   0   0   0]\n",
            " [  0  66 108   9   1   0   0   0]\n",
            " [  0  12  41  20   1   0   0   0]\n",
            " [  0   0  15   6   3   0   0   0]\n",
            " [  0   0   0   3   0   0   0   0]\n",
            " [  0   0   1   0   0   0   0   0]\n",
            " [  0   0   0   2   0   0   0   0]]\n"
          ]
        },
        {
          "output_type": "execute_result",
          "data": {
            "text/plain": [
              "0.7827102803738317"
            ]
          },
          "metadata": {},
          "execution_count": 34
        }
      ]
    }
  ]
}