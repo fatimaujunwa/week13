{
 "cells": [
  {
   "cell_type": "markdown",
   "metadata": {
    "id": "8FLud1n-3pVm"
   },
   "source": [
    "# XGBoost"
   ]
  },
  {
   "cell_type": "markdown",
   "metadata": {
    "id": "sO8VPU6n3vES"
   },
   "source": [
    "## Importing the libraries"
   ]
  },
  {
   "cell_type": "code",
   "execution_count": 1,
   "metadata": {
    "id": "clDSsF7P33NU"
   },
   "outputs": [],
   "source": [
    "import numpy as np\n",
    "import matplotlib.pyplot as plt\n",
    "import pandas as pd\n",
    "from sklearn.preprocessing import LabelEncoder\n",
    "import seaborn as sns\n"
   ]
  },
  {
   "cell_type": "markdown",
   "metadata": {
    "id": "zGpwK5XD386E"
   },
   "source": [
    "## Importing the dataset"
   ]
  },
  {
   "cell_type": "code",
   "execution_count": 2,
   "metadata": {
    "id": "Zcksk88u4Ae8"
   },
   "outputs": [],
   "source": [
    "df = pd.read_csv('Healthcare_data.csv')\n",
    "dataset = pd.DataFrame()\n",
    "\n",
    "for column in df.columns:\n",
    "    if df[column].dtype == 'object':\n",
    "        encoder = LabelEncoder()\n",
    "        encoded_values = encoder.fit_transform(df[column])\n",
    "        dataset[column] = encoded_values\n",
    "    else:\n",
    "        dataset[column] = df[column]\n",
    "X = dataset.iloc[:, :-1].values\n",
    "y = dataset.iloc[:, -1].values"
   ]
  },
  {
   "cell_type": "code",
   "execution_count": 13,
   "metadata": {},
   "outputs": [
    {
     "data": {
      "text/html": [
       "<div>\n",
       "<style scoped>\n",
       "    .dataframe tbody tr th:only-of-type {\n",
       "        vertical-align: middle;\n",
       "    }\n",
       "\n",
       "    .dataframe tbody tr th {\n",
       "        vertical-align: top;\n",
       "    }\n",
       "\n",
       "    .dataframe thead th {\n",
       "        text-align: right;\n",
       "    }\n",
       "</style>\n",
       "<table border=\"1\" class=\"dataframe\">\n",
       "  <thead>\n",
       "    <tr style=\"text-align: right;\">\n",
       "      <th></th>\n",
       "      <th>Ptid</th>\n",
       "      <th>Persistency_Flag</th>\n",
       "      <th>Gender</th>\n",
       "      <th>Race</th>\n",
       "      <th>Ethnicity</th>\n",
       "      <th>Region</th>\n",
       "      <th>Age_Bucket</th>\n",
       "      <th>Ntm_Speciality</th>\n",
       "      <th>Ntm_Specialist_Flag</th>\n",
       "      <th>Ntm_Speciality_Bucket</th>\n",
       "      <th>...</th>\n",
       "      <th>Risk_Family_History_Of_Osteoporosis</th>\n",
       "      <th>Risk_Low_Calcium_Intake</th>\n",
       "      <th>Risk_Vitamin_D_Insufficiency</th>\n",
       "      <th>Risk_Poor_Health_Frailty</th>\n",
       "      <th>Risk_Excessive_Thinness</th>\n",
       "      <th>Risk_Hysterectomy_Oophorectomy</th>\n",
       "      <th>Risk_Estrogen_Deficiency</th>\n",
       "      <th>Risk_Immobilization</th>\n",
       "      <th>Risk_Recurring_Falls</th>\n",
       "      <th>Count_Of_Risks</th>\n",
       "    </tr>\n",
       "  </thead>\n",
       "  <tbody>\n",
       "    <tr>\n",
       "      <th>0</th>\n",
       "      <td>P1</td>\n",
       "      <td>Persistent</td>\n",
       "      <td>Male</td>\n",
       "      <td>Caucasian</td>\n",
       "      <td>Not Hispanic</td>\n",
       "      <td>West</td>\n",
       "      <td>&gt;75</td>\n",
       "      <td>GENERAL PRACTITIONER</td>\n",
       "      <td>Others</td>\n",
       "      <td>OB/GYN/Others/PCP/Unknown</td>\n",
       "      <td>...</td>\n",
       "      <td>N</td>\n",
       "      <td>N</td>\n",
       "      <td>N</td>\n",
       "      <td>N</td>\n",
       "      <td>N</td>\n",
       "      <td>N</td>\n",
       "      <td>N</td>\n",
       "      <td>N</td>\n",
       "      <td>N</td>\n",
       "      <td>0</td>\n",
       "    </tr>\n",
       "    <tr>\n",
       "      <th>1</th>\n",
       "      <td>P2</td>\n",
       "      <td>Non-Persistent</td>\n",
       "      <td>Male</td>\n",
       "      <td>Asian</td>\n",
       "      <td>Not Hispanic</td>\n",
       "      <td>West</td>\n",
       "      <td>55-65</td>\n",
       "      <td>GENERAL PRACTITIONER</td>\n",
       "      <td>Others</td>\n",
       "      <td>OB/GYN/Others/PCP/Unknown</td>\n",
       "      <td>...</td>\n",
       "      <td>N</td>\n",
       "      <td>N</td>\n",
       "      <td>N</td>\n",
       "      <td>N</td>\n",
       "      <td>N</td>\n",
       "      <td>N</td>\n",
       "      <td>N</td>\n",
       "      <td>N</td>\n",
       "      <td>N</td>\n",
       "      <td>0</td>\n",
       "    </tr>\n",
       "    <tr>\n",
       "      <th>2</th>\n",
       "      <td>P3</td>\n",
       "      <td>Non-Persistent</td>\n",
       "      <td>Female</td>\n",
       "      <td>Other/Unknown</td>\n",
       "      <td>Hispanic</td>\n",
       "      <td>Midwest</td>\n",
       "      <td>65-75</td>\n",
       "      <td>GENERAL PRACTITIONER</td>\n",
       "      <td>Others</td>\n",
       "      <td>OB/GYN/Others/PCP/Unknown</td>\n",
       "      <td>...</td>\n",
       "      <td>N</td>\n",
       "      <td>Y</td>\n",
       "      <td>N</td>\n",
       "      <td>N</td>\n",
       "      <td>N</td>\n",
       "      <td>N</td>\n",
       "      <td>N</td>\n",
       "      <td>N</td>\n",
       "      <td>N</td>\n",
       "      <td>2</td>\n",
       "    </tr>\n",
       "    <tr>\n",
       "      <th>3</th>\n",
       "      <td>P4</td>\n",
       "      <td>Non-Persistent</td>\n",
       "      <td>Female</td>\n",
       "      <td>Caucasian</td>\n",
       "      <td>Not Hispanic</td>\n",
       "      <td>Midwest</td>\n",
       "      <td>&gt;75</td>\n",
       "      <td>GENERAL PRACTITIONER</td>\n",
       "      <td>Others</td>\n",
       "      <td>OB/GYN/Others/PCP/Unknown</td>\n",
       "      <td>...</td>\n",
       "      <td>N</td>\n",
       "      <td>N</td>\n",
       "      <td>N</td>\n",
       "      <td>N</td>\n",
       "      <td>N</td>\n",
       "      <td>N</td>\n",
       "      <td>N</td>\n",
       "      <td>N</td>\n",
       "      <td>N</td>\n",
       "      <td>1</td>\n",
       "    </tr>\n",
       "    <tr>\n",
       "      <th>4</th>\n",
       "      <td>P5</td>\n",
       "      <td>Non-Persistent</td>\n",
       "      <td>Female</td>\n",
       "      <td>Caucasian</td>\n",
       "      <td>Not Hispanic</td>\n",
       "      <td>Midwest</td>\n",
       "      <td>&gt;75</td>\n",
       "      <td>GENERAL PRACTITIONER</td>\n",
       "      <td>Others</td>\n",
       "      <td>OB/GYN/Others/PCP/Unknown</td>\n",
       "      <td>...</td>\n",
       "      <td>N</td>\n",
       "      <td>N</td>\n",
       "      <td>N</td>\n",
       "      <td>N</td>\n",
       "      <td>N</td>\n",
       "      <td>N</td>\n",
       "      <td>N</td>\n",
       "      <td>N</td>\n",
       "      <td>N</td>\n",
       "      <td>1</td>\n",
       "    </tr>\n",
       "    <tr>\n",
       "      <th>...</th>\n",
       "      <td>...</td>\n",
       "      <td>...</td>\n",
       "      <td>...</td>\n",
       "      <td>...</td>\n",
       "      <td>...</td>\n",
       "      <td>...</td>\n",
       "      <td>...</td>\n",
       "      <td>...</td>\n",
       "      <td>...</td>\n",
       "      <td>...</td>\n",
       "      <td>...</td>\n",
       "      <td>...</td>\n",
       "      <td>...</td>\n",
       "      <td>...</td>\n",
       "      <td>...</td>\n",
       "      <td>...</td>\n",
       "      <td>...</td>\n",
       "      <td>...</td>\n",
       "      <td>...</td>\n",
       "      <td>...</td>\n",
       "      <td>...</td>\n",
       "    </tr>\n",
       "    <tr>\n",
       "      <th>3419</th>\n",
       "      <td>P3420</td>\n",
       "      <td>Persistent</td>\n",
       "      <td>Female</td>\n",
       "      <td>Caucasian</td>\n",
       "      <td>Not Hispanic</td>\n",
       "      <td>South</td>\n",
       "      <td>&gt;75</td>\n",
       "      <td>GENERAL PRACTITIONER</td>\n",
       "      <td>Others</td>\n",
       "      <td>OB/GYN/Others/PCP/Unknown</td>\n",
       "      <td>...</td>\n",
       "      <td>N</td>\n",
       "      <td>N</td>\n",
       "      <td>Y</td>\n",
       "      <td>N</td>\n",
       "      <td>N</td>\n",
       "      <td>N</td>\n",
       "      <td>N</td>\n",
       "      <td>N</td>\n",
       "      <td>N</td>\n",
       "      <td>1</td>\n",
       "    </tr>\n",
       "    <tr>\n",
       "      <th>3420</th>\n",
       "      <td>P3421</td>\n",
       "      <td>Persistent</td>\n",
       "      <td>Female</td>\n",
       "      <td>Caucasian</td>\n",
       "      <td>Not Hispanic</td>\n",
       "      <td>South</td>\n",
       "      <td>&gt;75</td>\n",
       "      <td>Unknown</td>\n",
       "      <td>Others</td>\n",
       "      <td>OB/GYN/Others/PCP/Unknown</td>\n",
       "      <td>...</td>\n",
       "      <td>N</td>\n",
       "      <td>N</td>\n",
       "      <td>N</td>\n",
       "      <td>N</td>\n",
       "      <td>N</td>\n",
       "      <td>N</td>\n",
       "      <td>N</td>\n",
       "      <td>N</td>\n",
       "      <td>N</td>\n",
       "      <td>0</td>\n",
       "    </tr>\n",
       "    <tr>\n",
       "      <th>3421</th>\n",
       "      <td>P3422</td>\n",
       "      <td>Persistent</td>\n",
       "      <td>Female</td>\n",
       "      <td>Caucasian</td>\n",
       "      <td>Not Hispanic</td>\n",
       "      <td>South</td>\n",
       "      <td>&gt;75</td>\n",
       "      <td>ENDOCRINOLOGY</td>\n",
       "      <td>Specialist</td>\n",
       "      <td>Endo/Onc/Uro</td>\n",
       "      <td>...</td>\n",
       "      <td>N</td>\n",
       "      <td>N</td>\n",
       "      <td>Y</td>\n",
       "      <td>N</td>\n",
       "      <td>N</td>\n",
       "      <td>N</td>\n",
       "      <td>N</td>\n",
       "      <td>N</td>\n",
       "      <td>N</td>\n",
       "      <td>1</td>\n",
       "    </tr>\n",
       "    <tr>\n",
       "      <th>3422</th>\n",
       "      <td>P3423</td>\n",
       "      <td>Non-Persistent</td>\n",
       "      <td>Female</td>\n",
       "      <td>Caucasian</td>\n",
       "      <td>Not Hispanic</td>\n",
       "      <td>South</td>\n",
       "      <td>55-65</td>\n",
       "      <td>Unknown</td>\n",
       "      <td>Others</td>\n",
       "      <td>OB/GYN/Others/PCP/Unknown</td>\n",
       "      <td>...</td>\n",
       "      <td>N</td>\n",
       "      <td>N</td>\n",
       "      <td>N</td>\n",
       "      <td>N</td>\n",
       "      <td>N</td>\n",
       "      <td>N</td>\n",
       "      <td>N</td>\n",
       "      <td>N</td>\n",
       "      <td>N</td>\n",
       "      <td>0</td>\n",
       "    </tr>\n",
       "    <tr>\n",
       "      <th>3423</th>\n",
       "      <td>P3424</td>\n",
       "      <td>Non-Persistent</td>\n",
       "      <td>Female</td>\n",
       "      <td>Caucasian</td>\n",
       "      <td>Not Hispanic</td>\n",
       "      <td>South</td>\n",
       "      <td>65-75</td>\n",
       "      <td>Unknown</td>\n",
       "      <td>Others</td>\n",
       "      <td>OB/GYN/Others/PCP/Unknown</td>\n",
       "      <td>...</td>\n",
       "      <td>N</td>\n",
       "      <td>N</td>\n",
       "      <td>Y</td>\n",
       "      <td>N</td>\n",
       "      <td>N</td>\n",
       "      <td>N</td>\n",
       "      <td>N</td>\n",
       "      <td>N</td>\n",
       "      <td>N</td>\n",
       "      <td>1</td>\n",
       "    </tr>\n",
       "  </tbody>\n",
       "</table>\n",
       "<p>3424 rows × 69 columns</p>\n",
       "</div>"
      ],
      "text/plain": [
       "       Ptid Persistency_Flag  Gender           Race     Ethnicity   Region  \\\n",
       "0        P1       Persistent    Male      Caucasian  Not Hispanic     West   \n",
       "1        P2   Non-Persistent    Male          Asian  Not Hispanic     West   \n",
       "2        P3   Non-Persistent  Female  Other/Unknown      Hispanic  Midwest   \n",
       "3        P4   Non-Persistent  Female      Caucasian  Not Hispanic  Midwest   \n",
       "4        P5   Non-Persistent  Female      Caucasian  Not Hispanic  Midwest   \n",
       "...     ...              ...     ...            ...           ...      ...   \n",
       "3419  P3420       Persistent  Female      Caucasian  Not Hispanic    South   \n",
       "3420  P3421       Persistent  Female      Caucasian  Not Hispanic    South   \n",
       "3421  P3422       Persistent  Female      Caucasian  Not Hispanic    South   \n",
       "3422  P3423   Non-Persistent  Female      Caucasian  Not Hispanic    South   \n",
       "3423  P3424   Non-Persistent  Female      Caucasian  Not Hispanic    South   \n",
       "\n",
       "     Age_Bucket        Ntm_Speciality Ntm_Specialist_Flag  \\\n",
       "0           >75  GENERAL PRACTITIONER              Others   \n",
       "1         55-65  GENERAL PRACTITIONER              Others   \n",
       "2         65-75  GENERAL PRACTITIONER              Others   \n",
       "3           >75  GENERAL PRACTITIONER              Others   \n",
       "4           >75  GENERAL PRACTITIONER              Others   \n",
       "...         ...                   ...                 ...   \n",
       "3419        >75  GENERAL PRACTITIONER              Others   \n",
       "3420        >75               Unknown              Others   \n",
       "3421        >75         ENDOCRINOLOGY          Specialist   \n",
       "3422      55-65               Unknown              Others   \n",
       "3423      65-75               Unknown              Others   \n",
       "\n",
       "          Ntm_Speciality_Bucket  ... Risk_Family_History_Of_Osteoporosis  \\\n",
       "0     OB/GYN/Others/PCP/Unknown  ...                                   N   \n",
       "1     OB/GYN/Others/PCP/Unknown  ...                                   N   \n",
       "2     OB/GYN/Others/PCP/Unknown  ...                                   N   \n",
       "3     OB/GYN/Others/PCP/Unknown  ...                                   N   \n",
       "4     OB/GYN/Others/PCP/Unknown  ...                                   N   \n",
       "...                         ...  ...                                 ...   \n",
       "3419  OB/GYN/Others/PCP/Unknown  ...                                   N   \n",
       "3420  OB/GYN/Others/PCP/Unknown  ...                                   N   \n",
       "3421               Endo/Onc/Uro  ...                                   N   \n",
       "3422  OB/GYN/Others/PCP/Unknown  ...                                   N   \n",
       "3423  OB/GYN/Others/PCP/Unknown  ...                                   N   \n",
       "\n",
       "     Risk_Low_Calcium_Intake  Risk_Vitamin_D_Insufficiency  \\\n",
       "0                          N                             N   \n",
       "1                          N                             N   \n",
       "2                          Y                             N   \n",
       "3                          N                             N   \n",
       "4                          N                             N   \n",
       "...                      ...                           ...   \n",
       "3419                       N                             Y   \n",
       "3420                       N                             N   \n",
       "3421                       N                             Y   \n",
       "3422                       N                             N   \n",
       "3423                       N                             Y   \n",
       "\n",
       "     Risk_Poor_Health_Frailty Risk_Excessive_Thinness  \\\n",
       "0                           N                       N   \n",
       "1                           N                       N   \n",
       "2                           N                       N   \n",
       "3                           N                       N   \n",
       "4                           N                       N   \n",
       "...                       ...                     ...   \n",
       "3419                        N                       N   \n",
       "3420                        N                       N   \n",
       "3421                        N                       N   \n",
       "3422                        N                       N   \n",
       "3423                        N                       N   \n",
       "\n",
       "     Risk_Hysterectomy_Oophorectomy Risk_Estrogen_Deficiency  \\\n",
       "0                                 N                        N   \n",
       "1                                 N                        N   \n",
       "2                                 N                        N   \n",
       "3                                 N                        N   \n",
       "4                                 N                        N   \n",
       "...                             ...                      ...   \n",
       "3419                              N                        N   \n",
       "3420                              N                        N   \n",
       "3421                              N                        N   \n",
       "3422                              N                        N   \n",
       "3423                              N                        N   \n",
       "\n",
       "     Risk_Immobilization Risk_Recurring_Falls Count_Of_Risks  \n",
       "0                      N                    N              0  \n",
       "1                      N                    N              0  \n",
       "2                      N                    N              2  \n",
       "3                      N                    N              1  \n",
       "4                      N                    N              1  \n",
       "...                  ...                  ...            ...  \n",
       "3419                   N                    N              1  \n",
       "3420                   N                    N              0  \n",
       "3421                   N                    N              1  \n",
       "3422                   N                    N              0  \n",
       "3423                   N                    N              1  \n",
       "\n",
       "[3424 rows x 69 columns]"
      ]
     },
     "execution_count": 13,
     "metadata": {},
     "output_type": "execute_result"
    }
   ],
   "source": [
    "df"
   ]
  },
  {
   "cell_type": "markdown",
   "metadata": {
    "id": "XNn2RnST6_Q-"
   },
   "source": [
    "## Splitting the dataset into the Training set and Test set"
   ]
  },
  {
   "cell_type": "code",
   "execution_count": 3,
   "metadata": {
    "id": "ajhBL-er7Gry"
   },
   "outputs": [],
   "source": [
    "from sklearn.model_selection import train_test_split\n",
    "X_train, X_test, y_train, y_test = train_test_split(X, y, test_size = 0.2, random_state = 0)"
   ]
  },
  {
   "cell_type": "markdown",
   "metadata": {
    "id": "1Y89ctGZ7Mcx"
   },
   "source": [
    "## Training XGBoost on the Training set"
   ]
  },
  {
   "cell_type": "code",
   "execution_count": 9,
   "metadata": {
    "colab": {
     "base_uri": "https://localhost:8080/",
     "height": 248
    },
    "id": "ude1J0E47SKN",
    "outputId": "7db40f1b-e128-4968-8b02-7cd6b3cf004f"
   },
   "outputs": [
    {
     "data": {
      "text/html": [
       "<style>#sk-container-id-1 {color: black;background-color: white;}#sk-container-id-1 pre{padding: 0;}#sk-container-id-1 div.sk-toggleable {background-color: white;}#sk-container-id-1 label.sk-toggleable__label {cursor: pointer;display: block;width: 100%;margin-bottom: 0;padding: 0.3em;box-sizing: border-box;text-align: center;}#sk-container-id-1 label.sk-toggleable__label-arrow:before {content: \"▸\";float: left;margin-right: 0.25em;color: #696969;}#sk-container-id-1 label.sk-toggleable__label-arrow:hover:before {color: black;}#sk-container-id-1 div.sk-estimator:hover label.sk-toggleable__label-arrow:before {color: black;}#sk-container-id-1 div.sk-toggleable__content {max-height: 0;max-width: 0;overflow: hidden;text-align: left;background-color: #f0f8ff;}#sk-container-id-1 div.sk-toggleable__content pre {margin: 0.2em;color: black;border-radius: 0.25em;background-color: #f0f8ff;}#sk-container-id-1 input.sk-toggleable__control:checked~div.sk-toggleable__content {max-height: 200px;max-width: 100%;overflow: auto;}#sk-container-id-1 input.sk-toggleable__control:checked~label.sk-toggleable__label-arrow:before {content: \"▾\";}#sk-container-id-1 div.sk-estimator input.sk-toggleable__control:checked~label.sk-toggleable__label {background-color: #d4ebff;}#sk-container-id-1 div.sk-label input.sk-toggleable__control:checked~label.sk-toggleable__label {background-color: #d4ebff;}#sk-container-id-1 input.sk-hidden--visually {border: 0;clip: rect(1px 1px 1px 1px);clip: rect(1px, 1px, 1px, 1px);height: 1px;margin: -1px;overflow: hidden;padding: 0;position: absolute;width: 1px;}#sk-container-id-1 div.sk-estimator {font-family: monospace;background-color: #f0f8ff;border: 1px dotted black;border-radius: 0.25em;box-sizing: border-box;margin-bottom: 0.5em;}#sk-container-id-1 div.sk-estimator:hover {background-color: #d4ebff;}#sk-container-id-1 div.sk-parallel-item::after {content: \"\";width: 100%;border-bottom: 1px solid gray;flex-grow: 1;}#sk-container-id-1 div.sk-label:hover label.sk-toggleable__label {background-color: #d4ebff;}#sk-container-id-1 div.sk-serial::before {content: \"\";position: absolute;border-left: 1px solid gray;box-sizing: border-box;top: 0;bottom: 0;left: 50%;z-index: 0;}#sk-container-id-1 div.sk-serial {display: flex;flex-direction: column;align-items: center;background-color: white;padding-right: 0.2em;padding-left: 0.2em;position: relative;}#sk-container-id-1 div.sk-item {position: relative;z-index: 1;}#sk-container-id-1 div.sk-parallel {display: flex;align-items: stretch;justify-content: center;background-color: white;position: relative;}#sk-container-id-1 div.sk-item::before, #sk-container-id-1 div.sk-parallel-item::before {content: \"\";position: absolute;border-left: 1px solid gray;box-sizing: border-box;top: 0;bottom: 0;left: 50%;z-index: -1;}#sk-container-id-1 div.sk-parallel-item {display: flex;flex-direction: column;z-index: 1;position: relative;background-color: white;}#sk-container-id-1 div.sk-parallel-item:first-child::after {align-self: flex-end;width: 50%;}#sk-container-id-1 div.sk-parallel-item:last-child::after {align-self: flex-start;width: 50%;}#sk-container-id-1 div.sk-parallel-item:only-child::after {width: 0;}#sk-container-id-1 div.sk-dashed-wrapped {border: 1px dashed gray;margin: 0 0.4em 0.5em 0.4em;box-sizing: border-box;padding-bottom: 0.4em;background-color: white;}#sk-container-id-1 div.sk-label label {font-family: monospace;font-weight: bold;display: inline-block;line-height: 1.2em;}#sk-container-id-1 div.sk-label-container {text-align: center;}#sk-container-id-1 div.sk-container {/* jupyter's `normalize.less` sets `[hidden] { display: none; }` but bootstrap.min.css set `[hidden] { display: none !important; }` so we also need the `!important` here to be able to override the default hidden behavior on the sphinx rendered scikit-learn.org. See: https://github.com/scikit-learn/scikit-learn/issues/21755 */display: inline-block !important;position: relative;}#sk-container-id-1 div.sk-text-repr-fallback {display: none;}</style><div id=\"sk-container-id-1\" class=\"sk-top-container\"><div class=\"sk-text-repr-fallback\"><pre>XGBClassifier(base_score=None, booster=None, callbacks=None,\n",
       "              colsample_bylevel=None, colsample_bynode=None,\n",
       "              colsample_bytree=None, early_stopping_rounds=None,\n",
       "              enable_categorical=False, eval_metric=None, feature_types=None,\n",
       "              gamma=None, gpu_id=None, grow_policy=None, importance_type=None,\n",
       "              interaction_constraints=None, learning_rate=None, max_bin=None,\n",
       "              max_cat_threshold=None, max_cat_to_onehot=None,\n",
       "              max_delta_step=None, max_depth=None, max_leaves=None,\n",
       "              min_child_weight=None, missing=nan, monotone_constraints=None,\n",
       "              n_estimators=100, n_jobs=None, num_parallel_tree=None,\n",
       "              objective=&#x27;multi:softprob&#x27;, predictor=None, ...)</pre><b>In a Jupyter environment, please rerun this cell to show the HTML representation or trust the notebook. <br />On GitHub, the HTML representation is unable to render, please try loading this page with nbviewer.org.</b></div><div class=\"sk-container\" hidden><div class=\"sk-item\"><div class=\"sk-estimator sk-toggleable\"><input class=\"sk-toggleable__control sk-hidden--visually\" id=\"sk-estimator-id-1\" type=\"checkbox\" checked><label for=\"sk-estimator-id-1\" class=\"sk-toggleable__label sk-toggleable__label-arrow\">XGBClassifier</label><div class=\"sk-toggleable__content\"><pre>XGBClassifier(base_score=None, booster=None, callbacks=None,\n",
       "              colsample_bylevel=None, colsample_bynode=None,\n",
       "              colsample_bytree=None, early_stopping_rounds=None,\n",
       "              enable_categorical=False, eval_metric=None, feature_types=None,\n",
       "              gamma=None, gpu_id=None, grow_policy=None, importance_type=None,\n",
       "              interaction_constraints=None, learning_rate=None, max_bin=None,\n",
       "              max_cat_threshold=None, max_cat_to_onehot=None,\n",
       "              max_delta_step=None, max_depth=None, max_leaves=None,\n",
       "              min_child_weight=None, missing=nan, monotone_constraints=None,\n",
       "              n_estimators=100, n_jobs=None, num_parallel_tree=None,\n",
       "              objective=&#x27;multi:softprob&#x27;, predictor=None, ...)</pre></div></div></div></div></div>"
      ],
      "text/plain": [
       "XGBClassifier(base_score=None, booster=None, callbacks=None,\n",
       "              colsample_bylevel=None, colsample_bynode=None,\n",
       "              colsample_bytree=None, early_stopping_rounds=None,\n",
       "              enable_categorical=False, eval_metric=None, feature_types=None,\n",
       "              gamma=None, gpu_id=None, grow_policy=None, importance_type=None,\n",
       "              interaction_constraints=None, learning_rate=None, max_bin=None,\n",
       "              max_cat_threshold=None, max_cat_to_onehot=None,\n",
       "              max_delta_step=None, max_depth=None, max_leaves=None,\n",
       "              min_child_weight=None, missing=nan, monotone_constraints=None,\n",
       "              n_estimators=100, n_jobs=None, num_parallel_tree=None,\n",
       "              objective='multi:softprob', predictor=None, ...)"
      ]
     },
     "execution_count": 9,
     "metadata": {},
     "output_type": "execute_result"
    }
   ],
   "source": [
    "from xgboost import XGBClassifier\n",
    "classifier = XGBClassifier()\n",
    "classifier.fit(X_train, y_train)"
   ]
  },
  {
   "cell_type": "markdown",
   "metadata": {
    "id": "ivqmubzW7dFJ"
   },
   "source": [
    "## Making the Confusion Matrix"
   ]
  },
  {
   "cell_type": "code",
   "execution_count": 10,
   "metadata": {
    "colab": {
     "base_uri": "https://localhost:8080/"
    },
    "id": "SUSZ3zm_7gRD",
    "outputId": "fa5bf2c8-abdd-497a-cbb5-4fd9b02f9f23"
   },
   "outputs": [
    {
     "name": "stdout",
     "output_type": "stream",
     "text": [
      "[[197   0   0   0   0   0   0   0]\n",
      " [  2 248   1   0   0   0   0   0]\n",
      " [  0  25 117   5   0   0   0   0]\n",
      " [  0   4  25  31   4   0   0   0]\n",
      " [  0   0   2  12   5   1   0   0]\n",
      " [  0   0   0   3   0   0   0   0]\n",
      " [  0   0   0   0   1   0   0   0]\n",
      " [  0   0   0   0   2   0   0   0]]\n"
     ]
    },
    {
     "data": {
      "text/plain": [
       "0.872992700729927"
      ]
     },
     "execution_count": 10,
     "metadata": {},
     "output_type": "execute_result"
    }
   ],
   "source": [
    "from sklearn.metrics import confusion_matrix, accuracy_score\n",
    "y_pred = classifier.predict(X_test)\n",
    "cm = confusion_matrix(y_test, y_pred)\n",
    "print(cm)\n",
    "accuracy_score(y_test, y_pred)"
   ]
  },
  {
   "cell_type": "code",
   "execution_count": 12,
   "metadata": {},
   "outputs": [
    {
     "data": {
      "text/plain": [
       "<AxesSubplot:>"
      ]
     },
     "execution_count": 12,
     "metadata": {},
     "output_type": "execute_result"
    },
    {
     "data": {
      "image/png": "[encoded data removed]",
      "text/plain": [
       "<Figure size 720x360 with 2 Axes>"
      ]
     },
     "metadata": {
      "needs_background": "light"
     },
     "output_type": "display_data"
    }
   ],
   "source": [
    "plt.figure(figsize=[10,5])\n",
    "\n",
    "sns.heatmap(cm,annot=True,cmap='Blues')"
   ]
  },
  {
   "cell_type": "markdown",
   "metadata": {
    "id": "EnbCjHgQ8XPn"
   },
   "source": [
    "## Applying k-Fold Cross Validation"
   ]
  },
  {
   "cell_type": "code",
   "execution_count": 6,
   "metadata": {
    "colab": {
     "base_uri": "https://localhost:8080/"
    },
    "id": "yYbfiITD8ZAz",
    "outputId": "0947b155-379f-414b-d448-15e60ab8153a"
   },
   "outputs": [
    {
     "name": "stderr",
     "output_type": "stream",
     "text": [
      "/usr/local/lib/python3.10/dist-packages/sklearn/model_selection/_split.py:700: UserWarning: The least populated class in y has only 5 members, which is less than n_splits=10.\n",
      "  warnings.warn(\n"
     ]
    },
    {
     "name": "stdout",
     "output_type": "stream",
     "text": [
      "Accuracy: 87.62 %\n",
      "Standard Deviation: 1.31 %\n"
     ]
    }
   ],
   "source": [
    "from sklearn.model_selection import cross_val_score\n",
    "accuracies = cross_val_score(estimator = classifier, X = X_train, y = y_train, cv = 10)\n",
    "print(\"Accuracy: {:.2f} %\".format(accuracies.mean()*100))\n",
    "print(\"Standard Deviation: {:.2f} %\".format(accuracies.std()*100))"
   ]
  }
 ],
 "metadata": {
  "colab": {
   "provenance": []
  },
  "kernelspec": {
   "display_name": "Python 3 (ipykernel)",
   "language": "python",
   "name": "python3"
  },
  "language_info": {
   "codemirror_mode": {
    "name": "ipython",
    "version": 3
   },
   "file_extension": ".py",
   "mimetype": "text/x-python",
   "name": "python",
   "nbconvert_exporter": "python",
   "pygments_lexer": "ipython3",
   "version": "3.9.12"
  }
 },
 "nbformat": 4,
 "nbformat_minor": 1
}
